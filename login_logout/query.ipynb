{
 "cells": [
  {
   "cell_type": "code",
   "execution_count": 4,
   "id": "53903a9a",
   "metadata": {},
   "outputs": [],
   "source": [
    "import duckdb\n"
   ]
  },
  {
   "cell_type": "code",
   "execution_count": null,
   "id": "0cd755c1",
   "metadata": {},
   "outputs": [],
   "source": [
    "duckdb.sql(\"\"\"\n",
    "create or replace table employee_time as select * from read_csv_auto('Employee_Weekly_Login_Data.csv')\n",
    "\"\"\")"
   ]
  },
  {
   "cell_type": "code",
   "execution_count": null,
   "id": "1cfe72d2",
   "metadata": {},
   "outputs": [
    {
     "data": {
      "text/plain": [
       "┌─────────────┬───────────┐\n",
       "│ employee_id │ workholic │\n",
       "│   varchar   │  varchar  │\n",
       "├─────────────┼───────────┤\n",
       "│ E003        │ both      │\n",
       "│ E007        │ both      │\n",
       "│ E009        │ 1         │\n",
       "│ E010        │ both      │\n",
       "│ E004        │ both      │\n",
       "│ E005        │ both      │\n",
       "│ E008        │ 1         │\n",
       "│ E006        │ both      │\n",
       "└─────────────┴───────────┘"
      ]
     },
     "execution_count": 70,
     "metadata": {},
     "output_type": "execute_result"
    }
   ],
   "source": [
    "duckdb.sql(\"\"\"\n",
    "        with cte1 as\n",
    "            (select *,datediff('minutes',login::timestamp,logout::timestamp)*1.0/60 as work_hour from employee_time)\n",
    "        ,cte2 as\n",
    "           (select *,\n",
    "                case when work_hour >10 then '10+'\n",
    "           when work_hour > 8 then '8+'\n",
    "                    \n",
    "                    else '8-'\n",
    "                    end as work_cat\n",
    "            from cte1)\n",
    "        \n",
    "        select employee_id,\n",
    "           case when eight_hour_day >= 3 and ten_hour_day >=2 then 'both'\n",
    "           when ten_hour_day >=2 then '2'\n",
    "           when eight_hour_day >=3 then '1' end as workholic\n",
    "           \n",
    "           from    \n",
    "\n",
    "        (select employee_id,count(*) as 'eight_hour_day',\n",
    "           sum(case when work_cat = '10+' then 1 else 0 end) as 'ten_hour_day'\n",
    "            from cte2\n",
    "           where work_cat != '8-'\n",
    "           group by employee_id)\n",
    "        where workholic is not null\n",
    "        \n",
    "\n",
    "        \n",
    "\"\"\")"
   ]
  },
  {
   "cell_type": "code",
   "execution_count": null,
   "id": "1007a7ad",
   "metadata": {},
   "outputs": [],
   "source": []
  }
 ],
 "metadata": {
  "kernelspec": {
   "display_name": ".venv",
   "language": "python",
   "name": "python3"
  },
  "language_info": {
   "codemirror_mode": {
    "name": "ipython",
    "version": 3
   },
   "file_extension": ".py",
   "mimetype": "text/x-python",
   "name": "python",
   "nbconvert_exporter": "python",
   "pygments_lexer": "ipython3",
   "version": "3.12.3"
  }
 },
 "nbformat": 4,
 "nbformat_minor": 5
}
