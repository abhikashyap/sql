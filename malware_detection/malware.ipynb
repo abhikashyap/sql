{
 "cells": [
  {
   "cell_type": "code",
   "execution_count": 1,
   "id": "4b2d93fe",
   "metadata": {},
   "outputs": [],
   "source": [
    "import duckdb"
   ]
  },
  {
   "cell_type": "code",
   "execution_count": 7,
   "id": "73104dd4",
   "metadata": {},
   "outputs": [],
   "source": [
    "duckdb.sql(\"\"\"\n",
    "create or replace table malware as\n",
    "           select * from read_csv(Software_Malware_Detection_Data.csv)\n",
    "\"\"\")"
   ]
  },
  {
   "cell_type": "code",
   "execution_count": 25,
   "id": "615ac912",
   "metadata": {},
   "outputs": [
    {
     "data": {
      "text/plain": [
       "┌─────────────┬────────┬────────────────────────┐\n",
       "│ software_id │ today  │ difference_to_previous │\n",
       "│   varchar   │ int128 │         int128         │\n",
       "├─────────────┼────────┼────────────────────────┤\n",
       "│ SFT009      │     21 │                      3 │\n",
       "│ SFT007      │     24 │                     16 │\n",
       "│ SFT005      │     16 │                      4 │\n",
       "│ SFT004      │     22 │                     13 │\n",
       "│ SFT003      │     18 │                      5 │\n",
       "│ SFT002      │     18 │                      5 │\n",
       "│ SFT001      │     13 │                      6 │\n",
       "└─────────────┴────────┴────────────────────────┘"
      ]
     },
     "execution_count": 25,
     "metadata": {},
     "output_type": "execute_result"
    }
   ],
   "source": [
    "duckdb.sql(\"\"\"\n",
    "           with cte1 as\n",
    "           (select *,\n",
    "           row_number()over(partition by software_id order by rundate::date desc) as rn\n",
    "            from malware)\n",
    "           select software_id,today,today-yesterday as difference_to_previous\n",
    "           \n",
    "           from \n",
    "                \n",
    "                (select software_id,\n",
    "                sum(case when rn=1 then malware_detected end) as today,\n",
    "                sum(case when rn=2 then malware_detected end) as yesterday\n",
    "                    from cte1\n",
    "                group by software_id\n",
    "                having today>yesterday and today>11 and count(*)>2\n",
    "                order by software_id desc,today desc)\n",
    "           \n",
    "           \"\"\")"
   ]
  },
  {
   "cell_type": "code",
   "execution_count": null,
   "id": "52408610",
   "metadata": {},
   "outputs": [],
   "source": []
  }
 ],
 "metadata": {
  "kernelspec": {
   "display_name": ".venv",
   "language": "python",
   "name": "python3"
  },
  "language_info": {
   "codemirror_mode": {
    "name": "ipython",
    "version": 3
   },
   "file_extension": ".py",
   "mimetype": "text/x-python",
   "name": "python",
   "nbconvert_exporter": "python",
   "pygments_lexer": "ipython3",
   "version": "3.12.3"
  }
 },
 "nbformat": 4,
 "nbformat_minor": 5
}
