{
 "cells": [
  {
   "cell_type": "markdown",
   "id": "65d41a91",
   "metadata": {},
   "source": [
    "# if event_time difference is greater than 30 it is a session find no_of event in each session ,session_id ,start_time ,end_time and duration of sessions"
   ]
  },
  {
   "cell_type": "code",
   "execution_count": 1,
   "id": "4b2d93fe",
   "metadata": {},
   "outputs": [],
   "source": [
    "import duckdb"
   ]
  },
  {
   "cell_type": "code",
   "execution_count": 2,
   "id": "73104dd4",
   "metadata": {},
   "outputs": [],
   "source": [
    "duckdb.sql(\"\"\"\n",
    "create or replace table session as\n",
    "           select * from read_csv(User_Event_Data.csv)\n",
    "\"\"\")"
   ]
  },
  {
   "cell_type": "code",
   "execution_count": 7,
   "id": "615ac912",
   "metadata": {},
   "outputs": [
    {
     "data": {
      "text/plain": [
       "┌─────────┬────────────┬────────────────────────────┬────────────────────────────┬──────────────────┬──────────┐\n",
       "│ user_id │ session_id │         start_time         │          end_time          │ session_duration │ event_no │\n",
       "│ varchar │   int64    │         timestamp          │         timestamp          │      int64       │  int64   │\n",
       "├─────────┼────────────┼────────────────────────────┼────────────────────────────┼──────────────────┼──────────┤\n",
       "│ USR001  │         19 │ 2025-07-29 13:56:55.755506 │ 2025-07-29 13:56:55.755506 │                0 │        1 │\n",
       "│ USR001  │          2 │ 2025-07-29 14:49:23.755506 │ 2025-07-29 14:49:23.755506 │                0 │        1 │\n",
       "│ USR001  │         13 │ 2025-07-29 16:12:00.755506 │ 2025-07-29 16:12:00.755506 │                0 │        1 │\n",
       "│ USR001  │         13 │ 2025-07-29 16:56:12.755506 │ 2025-07-29 16:56:12.755506 │                0 │        1 │\n",
       "│ USR001  │          8 │ 2025-07-29 17:47:03.755506 │ 2025-07-29 17:47:03.755506 │                0 │        1 │\n",
       "│ USR001  │         13 │ 2025-07-29 18:18:54.755506 │ 2025-07-29 18:18:54.755506 │                0 │        1 │\n",
       "│ USR001  │         19 │ 2025-07-29 19:07:49.755506 │ 2025-07-29 19:07:49.755506 │                0 │        1 │\n",
       "│ USR001  │         19 │ 2025-07-29 20:26:14.755506 │ 2025-07-29 20:26:14.755506 │                0 │        1 │\n",
       "│ USR001  │          8 │ 2025-07-29 22:15:27.755506 │ 2025-07-29 22:15:27.755506 │                0 │        1 │\n",
       "│ USR001  │          2 │ 2025-07-29 23:38:42.755506 │ 2025-07-29 23:38:42.755506 │                0 │        1 │\n",
       "│   ·     │          · │             ·              │             ·              │                · │        · │\n",
       "│   ·     │          · │             ·              │             ·              │                · │        · │\n",
       "│   ·     │          · │             ·              │             ·              │                · │        · │\n",
       "│ USR020  │         11 │ 2025-07-31 01:25:57.755506 │ 2025-07-31 03:09:19.755506 │              104 │        2 │\n",
       "│ USR020  │         17 │ 2025-07-31 03:11:19.755506 │ 2025-07-31 03:11:19.755506 │                0 │        1 │\n",
       "│ USR020  │         17 │ 2025-07-31 04:54:30.755506 │ 2025-07-31 06:44:42.755506 │              110 │        2 │\n",
       "│ USR020  │         20 │ 2025-07-31 06:50:04.755506 │ 2025-07-31 07:47:33.755506 │               57 │        3 │\n",
       "│ USR020  │         20 │ 2025-07-31 08:10:30.755506 │ 2025-07-31 08:10:30.755506 │                0 │        1 │\n",
       "│ USR020  │         19 │ 2025-07-31 10:03:40.755506 │ 2025-07-31 10:03:40.755506 │                0 │        1 │\n",
       "│ USR020  │          7 │ 2025-07-31 11:27:49.755506 │ 2025-07-31 12:51:50.755506 │               84 │        2 │\n",
       "│ USR020  │         14 │ 2025-07-31 13:20:30.755506 │ 2025-07-31 13:20:30.755506 │                0 │        1 │\n",
       "│ USR020  │         14 │ 2025-07-31 14:44:09.755506 │ 2025-07-31 15:55:33.755506 │               71 │        3 │\n",
       "│ USR020  │          4 │ 2025-07-31 16:18:26.755506 │ 2025-07-31 17:32:59.755506 │               74 │        2 │\n",
       "├─────────┴────────────┴────────────────────────────┴────────────────────────────┴──────────────────┴──────────┤\n",
       "│ 720 rows (20 shown)                                                                                6 columns │\n",
       "└──────────────────────────────────────────────────────────────────────────────────────────────────────────────┘"
      ]
     },
     "execution_count": 7,
     "metadata": {},
     "output_type": "execute_result"
    }
   ],
   "source": [
    "duckdb.sql(\"\"\"\n",
    "           with cte1 as \n",
    "                (select *,\n",
    "                datediff('minutes',event_time , lag(event_time,1,event_time) over (partition by user_id order by event_time desc)) as event_diff\n",
    "                    from session)\n",
    "           ,cte2 as\n",
    "           (select *,\n",
    "           case when event_diff >30 then 1 else 0 end as session_flag,\n",
    "           sum(case when event_diff >30 then 1 else 0 end ) over ( partition by user_id order by event_time) as group_id\n",
    "           \n",
    "           \n",
    "           from cte1)\n",
    "\n",
    "           select user_id,\n",
    "           row_number()over(partition by group_id ) as session_id\n",
    "           ,min(event_time) as start_time,max(event_time) as end_time,\n",
    "            abs(date_diff('minutes',max(event_time),min(event_time))) as session_duration,\n",
    "           count(*) as event_no\n",
    "            from cte2\n",
    "           group by user_id,group_id\n",
    "           order by user_id,group_id\n",
    "          \n",
    "           \n",
    "\n",
    "           \n",
    "           \"\"\")"
   ]
  },
  {
   "cell_type": "code",
   "execution_count": null,
   "id": "52408610",
   "metadata": {},
   "outputs": [],
   "source": []
  },
  {
   "cell_type": "code",
   "execution_count": null,
   "id": "5c8a3582",
   "metadata": {},
   "outputs": [],
   "source": []
  },
  {
   "cell_type": "code",
   "execution_count": null,
   "id": "1adb0ac1",
   "metadata": {},
   "outputs": [],
   "source": []
  }
 ],
 "metadata": {
  "kernelspec": {
   "display_name": ".venv",
   "language": "python",
   "name": "python3"
  },
  "language_info": {
   "codemirror_mode": {
    "name": "ipython",
    "version": 3
   },
   "file_extension": ".py",
   "mimetype": "text/x-python",
   "name": "python",
   "nbconvert_exporter": "python",
   "pygments_lexer": "ipython3",
   "version": "3.12.3"
  }
 },
 "nbformat": 4,
 "nbformat_minor": 5
}
